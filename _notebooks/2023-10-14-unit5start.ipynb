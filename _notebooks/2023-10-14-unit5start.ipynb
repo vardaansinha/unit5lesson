{
 "cells": [
  {
   "attachments": {},
   "cell_type": "markdown",
   "metadata": {},
   "source": []
  },
  {
   "attachments": {},
   "cell_type": "markdown",
   "metadata": {},
   "source": [
    "# 5.1 Anatomy of a Class"
   ]
  },
  {
   "attachments": {},
   "cell_type": "markdown",
   "metadata": {},
   "source": [
    "## KEY LEARNING OBJECTIVES:\n",
    "\n",
    "1. Designate access and visibility constraints to classes, data, constructors, and methods.\n",
    "\n",
    "2. Designate private visibility of instance variables to encapsulate the attributes of an object."
   ]
  },
  {
   "attachments": {},
   "cell_type": "markdown",
   "metadata": {},
   "source": [
    "## What is a class?"
   ]
  },
  {
   "attachments": {},
   "cell_type": "markdown",
   "metadata": {},
   "source": [
    "A **class** is a template for creating objects in Java. "
   ]
  },
  {
   "attachments": {},
   "cell_type": "markdown",
   "metadata": {},
   "source": [
    "## Private vs Public Designation\n",
    "\n",
    "**Private**: A private access modifier means that the instance variables, constructors, and methods cannot be accessed outside of the class.\n",
    "\n",
    "**Public**: This allows access from classes outside the original class of declaration."
   ]
  },
  {
   "attachments": {},
   "cell_type": "markdown",
   "metadata": {},
   "source": [
    "## Data Encapsulation\n",
    "\n",
    "This is one of the key components of object oriented programming. \n",
    "\n",
    "It ensures data ______ by controlling which parts of a class are accessible to other classes."
   ]
  },
  {
   "attachments": {},
   "cell_type": "markdown",
   "metadata": {},
   "source": [
    "In the following example, we look at encapsulation and demonstrate how to create a Student class with private instance variables for name and age, public methods for accessing and modifying these variables, and validation checks to ensure data integrity. "
   ]
  },
  {
   "cell_type": "code",
   "execution_count": 4,
   "metadata": {
    "vscode": {
     "languageId": "java"
    }
   },
   "outputs": [
    {
     "name": "stdout",
     "output_type": "stream",
     "text": [
      "Student Name: Vishnu\n",
      "Student Age: 17\n",
      "Updated Student Name: Anna\n",
      "Updated Student Age: 17\n"
     ]
    }
   ],
   "source": [
    "public class Student {\n",
    "    private String name;  // Private instance variable for name\n",
    "    private int age;      // Private instance variable for age\n",
    "\n",
    "    // Public constructor to initialize the student's name and age\n",
    "    public Student(String name, int age) {\n",
    "        this.name = name;\n",
    "        this.age = age;\n",
    "    }\n",
    "\n",
    "    // Public method to get the student's name\n",
    "    public String getName() {\n",
    "        return name;\n",
    "    }\n",
    "\n",
    "    // Public method to set the student's name\n",
    "    public void setName(String name) {\n",
    "        // We can validate and set the name here\n",
    "        if (name != null && !name.isEmpty()) {\n",
    "            this.name = name;\n",
    "        } else {\n",
    "            System.out.println(\"Invalid name provided.\");\n",
    "        }\n",
    "    }\n",
    "\n",
    "    // Public method to get the student's age\n",
    "    public int getAge() {\n",
    "        return age;\n",
    "    }\n",
    "\n",
    "    // Public method to set the student's age\n",
    "    public void setAge(int age) {\n",
    "        // We can validate and set the age here\n",
    "        if (age >= 0) {\n",
    "            this.age = age;\n",
    "        } else {\n",
    "            System.out.println(\"Invalid age provided.\");\n",
    "        }\n",
    "    }\n",
    "\n",
    "    public static void main(String[] args) {\n",
    "        // Create a new Student object\n",
    "        Student student = new Student(\"Vishnu\", 17);\n",
    "\n",
    "        // Accessing and printing the student's name and age using public methods\n",
    "        System.out.println(\"Student Name: \" + student.getName());\n",
    "        System.out.println(\"Student Age: \" + student.getAge());\n",
    "\n",
    "\n",
    "        // Update the student's name and age\n",
    "        student.setName(\"Anna\");\n",
    "        student.setAge(17);\n",
    "\n",
    "        // Printing the updated student information\n",
    "        System.out.println(\"Updated Student Name: \" + student.getName());\n",
    "        System.out.println(\"Updated Student Age: \" + student.getAge());\n",
    "    }\n",
    "}\n",
    "\n",
    "Student.main(null);"
   ]
  },
  {
   "attachments": {},
   "cell_type": "markdown",
   "metadata": {},
   "source": [
    "# 5.2 Constructors"
   ]
  },
  {
   "attachments": {},
   "cell_type": "markdown",
   "metadata": {},
   "source": [
    "## KEY LEARNING OBJECTIVES"
   ]
  },
  {
   "attachments": {},
   "cell_type": "markdown",
   "metadata": {},
   "source": [
    "Define instance variables for the attributes to be initialized through the constructors of a class."
   ]
  },
  {
   "attachments": {},
   "cell_type": "markdown",
   "metadata": {},
   "source": [
    "Constructors are used to set the _____ state of an object.\n"
   ]
  },
  {
   "attachments": {},
   "cell_type": "markdown",
   "metadata": {},
   "source": [
    "**Mutable Objects**: These are objects whose internal state can be changed after its creation. Lists are mutable objects, as are arrays.\n",
    "\n",
    "**Constructor Parameters**: These are values passed to a class's constructor when creating an instance. This initializes the new object's state.\n",
    "\n",
    "**Instance Variables**: These are object attributes that store the objects state. They are declared within the class and can be accessed by the object's methods.\n",
    "\n",
    "**Alias**: Two variables point to the ____ object."
   ]
  },
  {
   "attachments": {},
   "cell_type": "markdown",
   "metadata": {},
   "source": [
    "A good example of a Java alias:"
   ]
  },
  {
   "cell_type": "code",
   "execution_count": 17,
   "metadata": {
    "vscode": {
     "languageId": "java"
    }
   },
   "outputs": [
    {
     "name": "stdout",
     "output_type": "stream",
     "text": [
      "Value at index 0 through alias2: 100\n"
     ]
    }
   ],
   "source": [
    "public class AliasExample {\n",
    "    public static void main(String[] args) {\n",
    "        // Create an array and two references (aliases) to it\n",
    "        int[] array = new int[]{1, 2, 3};\n",
    "        int[] alias1 = array;\n",
    "        int[] alias2 = array;\n",
    "\n",
    "        // Modify the array through one of the aliases\n",
    "        alias1[0] = 100;\n",
    "\n",
    "        // Access the modified array through the other alias\n",
    "        System.out.println(\"Value at index 0 through alias2: \" + alias2[0]);\n",
    "    }\n",
    "}\n",
    "\n",
    "AliasExample.main(null);"
   ]
  },
  {
   "attachments": {},
   "cell_type": "markdown",
   "metadata": {},
   "source": [
    "In the below example, we explore encapsulation and demonstrate how to create a Person class to represent individuals with private attributes for name, age, and hobbies. The code showcases how to initialize and manipulate a Person object's state, including adding hobbies to the person's list, while ensuring the original data remains unchanged."
   ]
  },
  {
   "cell_type": "code",
   "execution_count": 15,
   "metadata": {
    "vscode": {
     "languageId": "java"
    }
   },
   "outputs": [
    {
     "name": "stdout",
     "output_type": "stream",
     "text": [
      "Name: Anna\n",
      "Age: 17\n",
      "Hobbies: [Coding, Basketball]\n",
      "Name: Anna\n",
      "Age: 17\n",
      "Hobbies: [Coding, Basketball, Buff Quant]\n"
     ]
    }
   ],
   "source": [
    "import java.util.ArrayList;\n",
    "import java.util.List;\n",
    "\n",
    "// Define a Person class to represent individuals with attributes like name, age, and hobbies\n",
    "class Person {\n",
    "    private String name;       // Private instance variable for name\n",
    "    private int age;           // Private instance variable for age\n",
    "    private List<String> hobbies; // Private instance variable for hobbies\n",
    "\n",
    "    // Constructor to initialize a Person object with a name, age, and list of hobbies\n",
    "    public Person(String name, int age, List<String> hobbies) {\n",
    "        this.name = name;\n",
    "        this.age = age;\n",
    "\n",
    "        // Initialize hobbies with a copy of the referenced list to avoid modification of the original list.\n",
    "        this.hobbies = new ArrayList<>(hobbies);\n",
    "    }\n",
    "\n",
    "    // Getter method to retrieve the person's name\n",
    "    public String getName() {\n",
    "        return name;\n",
    "    }\n",
    "\n",
    "    // Getter method to retrieve the person's age\n",
    "    public int getAge() {\n",
    "        return age;\n",
    "    }\n",
    "\n",
    "    // Getter method to retrieve a copy of the person's hobbies\n",
    "    public List<String> getHobbies() {\n",
    "        // Return a copy of the hobbies list to prevent modification of the original list.\n",
    "        return new ArrayList<>(hobbies);\n",
    "    }\n",
    "\n",
    "    // Method to add a new hobby to the person's list of hobbies\n",
    "    public void addHobby(String hobby) {\n",
    "        hobbies.add(hobby);\n",
    "    }\n",
    "\n",
    "    // Method to display the person's information, including name, age, and hobbies\n",
    "    public void displayInfo() {\n",
    "        System.out.println(\"Name: \" + name);\n",
    "        System.out.println(\"Age: \" + age);\n",
    "        System.out.println(\"Hobbies: \" + hobbies);\n",
    "    }\n",
    "}\n",
    "\n",
    "// Main class for demonstrating the Person class\n",
    "public class PersonHobbies {\n",
    "    public static void main(String[] args) {\n",
    "        // Create a list of hobbies\n",
    "        List<String> hobbiesList = new ArrayList<>();\n",
    "        hobbiesList.add(\"Coding\");\n",
    "        hobbiesList.add(\"Basketball\");\n",
    "\n",
    "        // Create a Person object using the constructor, initializing Anna's information\n",
    "        Person person = new Person(\"Anna\", 17, hobbiesList);\n",
    "\n",
    "        // Display information about Anna, including her name, age, and hobbies\n",
    "        person.displayInfo();\n",
    "\n",
    "        // Add \"Buff Quant\" to Anna's list of hobbies\n",
    "        person.addHobby(\"Buff Quant\");\n",
    "\n",
    "        // Display Anna's updated information, including her new hobby\n",
    "        person.displayInfo();\n",
    "    }\n",
    "}\n",
    "\n",
    "PersonHobbies.main(null);"
   ]
  },
  {
   "attachments": {},
   "cell_type": "markdown",
   "metadata": {},
   "source": [
    "In the Person class, the hobbies list is encapsulated to prevent unintended modifications. What is the importance of encapsulation and how does it improve the design of the class?"
   ]
  },
  {
   "attachments": {},
   "cell_type": "markdown",
   "metadata": {},
   "source": [
    "# 5.3 Documentation with Comments"
   ]
  },
  {
   "attachments": {},
   "cell_type": "markdown",
   "metadata": {},
   "source": [
    "## KEY LEARNING OBJECTIVE"
   ]
  },
  {
   "attachments": {},
   "cell_type": "markdown",
   "metadata": {},
   "source": [
    "Describe the functionality and use of program code through comments."
   ]
  },
  {
   "attachments": {},
   "cell_type": "markdown",
   "metadata": {},
   "source": [
    "**Precondition**: This is a condition that has to be met prior to an execution of a certain part of the code for the method to work.\n",
    "\n",
    "**Postcondition**: This is a condition that has to be met after the execution of a certain part of the code. "
   ]
  },
  {
   "cell_type": "code",
   "execution_count": 19,
   "metadata": {
    "vscode": {
     "languageId": "java"
    }
   },
   "outputs": [
    {
     "name": "stdout",
     "output_type": "stream",
     "text": [
      "Constructor called with value: 42\n",
      "Value: 42\n"
     ]
    }
   ],
   "source": [
    "public class Comments {\n",
    "    private int value;\n",
    "\n",
    "    public Comments(int value) {\n",
    "        this.value = value;\n",
    "        System.out.println(\"Constructor called with value: \" + value);\n",
    "    }\n",
    "\n",
    "    public int getValue() {\n",
    "        return value;\n",
    "    }\n",
    "\n",
    "    public static void main(String[] args) {\n",
    "        Comments myObject = new Comments(42);  \n",
    "        int result = myObject.getValue();    \n",
    "        System.out.println(\"Value: \" + result); \n",
    "    }\n",
    "}\n",
    "\n",
    "Comments.main(null);\n"
   ]
  },
  {
   "attachments": {},
   "cell_type": "markdown",
   "metadata": {},
   "source": [
    "**ADD DESCRIPTIVE COMMENTS TO THE ABOVE CODE. Provide descriptions of functionality, identify methods used, and initialized variables if any.**"
   ]
  },
  {
   "attachments": {},
   "cell_type": "markdown",
   "metadata": {},
   "source": [
    "# Hacks"
   ]
  },
  {
   "attachments": {},
   "cell_type": "markdown",
   "metadata": {},
   "source": [
    "**POPCORN HACKS: 0.2**"
   ]
  },
  {
   "attachments": {},
   "cell_type": "markdown",
   "metadata": {},
   "source": [
    "**Create a simple To-Do List that utilizes the following (0.8):**\n",
    "\n",
    "1. Private and Public Declaration\n",
    "\n",
    "2. Constructor\n",
    "\n",
    "3. Mutable Array containing To-Do List Items\n",
    "\n",
    "Make sure to add descriptive comments that are describing your code!"
   ]
  }
 ],
 "metadata": {
  "kernelspec": {
   "display_name": "Java",
   "language": "java",
   "name": "java"
  },
  "language_info": {
   "codemirror_mode": "java",
   "file_extension": ".jshell",
   "mimetype": "text/x-java-source",
   "name": "Java",
   "pygments_lexer": "java",
   "version": "11.0.20+8-post-Ubuntu-1ubuntu120.04"
  },
  "orig_nbformat": 4
 },
 "nbformat": 4,
 "nbformat_minor": 2
}
