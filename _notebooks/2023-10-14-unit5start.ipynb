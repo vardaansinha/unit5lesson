{
 "cells": [
  {
   "attachments": {},
   "cell_type": "markdown",
   "metadata": {},
   "source": []
  },
  {
   "attachments": {},
   "cell_type": "markdown",
   "metadata": {},
   "source": [
    "# 5.1 Anatomy of a Class"
   ]
  },
  {
   "attachments": {},
   "cell_type": "markdown",
   "metadata": {},
   "source": [
    "## KEY LEARNING OBJECTIVES:\n",
    "\n",
    "1. Designate access and visibility constraints to classes, data, constructors, and methods.\n",
    "\n",
    "2. Designate private visibility of instance variables to encapsulate the attributes of an object."
   ]
  },
  {
   "attachments": {},
   "cell_type": "markdown",
   "metadata": {},
   "source": [
    "## What is a class?"
   ]
  },
  {
   "attachments": {},
   "cell_type": "markdown",
   "metadata": {},
   "source": [
    "A **class** is a template for creating objects in Java. "
   ]
  },
  {
   "attachments": {},
   "cell_type": "markdown",
   "metadata": {},
   "source": [
    "## Private vs Public Designation\n",
    "\n",
    "**Private**: A private access modifier means that the instance variables, constructors, and methods cannot be accessed outside of the class.\n",
    "\n",
    "**Public**: This allows access from classes outside the original class of declaration."
   ]
  },
  {
   "attachments": {},
   "cell_type": "markdown",
   "metadata": {},
   "source": [
    "## Data Encapsulation\n",
    "\n",
    "This is one of the key components of object oriented programming. \n",
    "\n",
    "**POPCORN**: It ensures data ______ by controlling which parts of a class are accessible to other classes."
   ]
  },
  {
   "cell_type": "code",
   "execution_count": 4,
   "metadata": {
    "vscode": {
     "languageId": "java"
    }
   },
   "outputs": [
    {
     "name": "stdout",
     "output_type": "stream",
     "text": [
      "Student Name: Vishnu\n",
      "Student Age: 17\n",
      "Updated Student Name: Anna\n",
      "Updated Student Age: 17\n"
     ]
    }
   ],
   "source": [
    "public class Student {\n",
    "    private String name;  // Private instance variable for name\n",
    "    private int age;      // Private instance variable for age\n",
    "\n",
    "    // Public constructor to initialize the student's name and age\n",
    "    public Student(String name, int age) {\n",
    "        this.name = name;\n",
    "        this.age = age;\n",
    "    }\n",
    "\n",
    "    // Public method to get the student's name\n",
    "    public String getName() {\n",
    "        return name;\n",
    "    }\n",
    "\n",
    "    // Public method to set the student's name\n",
    "    public void setName(String name) {\n",
    "        // We can validate and set the name here\n",
    "        if (name != null && !name.isEmpty()) {\n",
    "            this.name = name;\n",
    "        } else {\n",
    "            System.out.println(\"Invalid name provided.\");\n",
    "        }\n",
    "    }\n",
    "\n",
    "    // Public method to get the student's age\n",
    "    public int getAge() {\n",
    "        return age;\n",
    "    }\n",
    "\n",
    "    // Public method to set the student's age\n",
    "    public void setAge(int age) {\n",
    "        // We can validate and set the age here\n",
    "        if (age >= 0) {\n",
    "            this.age = age;\n",
    "        } else {\n",
    "            System.out.println(\"Invalid age provided.\");\n",
    "        }\n",
    "    }\n",
    "\n",
    "    public static void main(String[] args) {\n",
    "        // Create a new Student object\n",
    "        Student student = new Student(\"Vishnu\", 17);\n",
    "\n",
    "        // Accessing and printing the student's name and age using public methods\n",
    "        System.out.println(\"Student Name: \" + student.getName());\n",
    "        System.out.println(\"Student Age: \" + student.getAge());\n",
    "\n",
    "\n",
    "        // Update the student's name and age\n",
    "        student.setName(\"Anna\");\n",
    "        student.setAge(17);\n",
    "\n",
    "        // Printing the updated student information\n",
    "        System.out.println(\"Updated Student Name: \" + student.getName());\n",
    "        System.out.println(\"Updated Student Age: \" + student.getAge());\n",
    "    }\n",
    "}\n",
    "\n",
    "Student.main(null);"
   ]
  },
  {
   "attachments": {},
   "cell_type": "markdown",
   "metadata": {},
   "source": [
    "# 5.2 Constructors"
   ]
  },
  {
   "cell_type": "code",
   "execution_count": 7,
   "metadata": {
    "vscode": {
     "languageId": "java"
    }
   },
   "outputs": [
    {
     "name": "stdout",
     "output_type": "stream",
     "text": [
      "Name: Alice\n",
      "Age: 25\n",
      "Hobbies: [Reading, Hiking]\n",
      "Name: Alice\n",
      "Age: 25\n",
      "Hobbies: [Reading, Hiking]\n"
     ]
    }
   ],
   "source": [
    "import java.util.ArrayList;\n",
    "import java.util.List;\n",
    "\n",
    "class Person {\n",
    "    private String name;\n",
    "    private int age;\n",
    "    private List<String> hobbies;\n",
    "\n",
    "    // Constructor to initialize the Person object\n",
    "    public Person(String name, int age, List<String> hobbies) {\n",
    "        this.name = name;\n",
    "        this.age = age;\n",
    "\n",
    "        // Initialize hobbies with a copy of the referenced list to avoid modification of the original list.\n",
    "        this.hobbies = new ArrayList<>(hobbies);\n",
    "    }\n",
    "\n",
    "    // Getter methods to access the instance variables\n",
    "    public String getName() {\n",
    "        return name;\n",
    "    }\n",
    "\n",
    "    public int getAge() {\n",
    "        return age;\n",
    "    }\n",
    "\n",
    "    public List<String> getHobbies() {\n",
    "        // Return a copy of the hobbies list to prevent modification of the original list.\n",
    "        return new ArrayList<>(hobbies);\n",
    "    }\n",
    "\n",
    "    public void displayInfo() {\n",
    "        System.out.println(\"Name: \" + name);\n",
    "        System.out.println(\"Age: \" + age);\n",
    "        System.out.println(\"Hobbies: \" + hobbies);\n",
    "    }\n",
    "}\n",
    "\n",
    "public class PersonDemo {\n",
    "    public static void main(String[] args) {\n",
    "        // Create a list of hobbies\n",
    "        List<String> hobbiesList = new ArrayList<>();\n",
    "        hobbiesList.add(\"Reading\");\n",
    "        hobbiesList.add(\"Hiking\");\n",
    "\n",
    "        // Create a Person object using the constructor\n",
    "        Person person = new Person(\"Alice\", 25, hobbiesList);\n",
    "\n",
    "        // Display information about the person\n",
    "        person.displayInfo();\n",
    "\n",
    "        // Attempt to modify the original hobbies list\n",
    "        hobbiesList.add(\"Swimming\");\n",
    "\n",
    "        // Display the person's information again to demonstrate that the original list is not modified\n",
    "        person.displayInfo();\n",
    "    }\n",
    "}\n",
    "\n",
    "PersonDemo.main(null);\n"
   ]
  },
  {
   "attachments": {},
   "cell_type": "markdown",
   "metadata": {},
   "source": [
    "# 5.3 Documentation with Comments"
   ]
  },
  {
   "attachments": {},
   "cell_type": "markdown",
   "metadata": {},
   "source": [
    "# Hacks"
   ]
  }
 ],
 "metadata": {
  "kernelspec": {
   "display_name": "Java",
   "language": "java",
   "name": "java"
  },
  "language_info": {
   "codemirror_mode": "java",
   "file_extension": ".jshell",
   "mimetype": "text/x-java-source",
   "name": "Java",
   "pygments_lexer": "java",
   "version": "11.0.20+8-post-Ubuntu-1ubuntu120.04"
  },
  "orig_nbformat": 4
 },
 "nbformat": 4,
 "nbformat_minor": 2
}
