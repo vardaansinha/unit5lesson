{
 "cells": [
  {
   "attachments": {},
   "cell_type": "markdown",
   "metadata": {},
   "source": [
    "# Hacks"
   ]
  },
  {
   "attachments": {},
   "cell_type": "markdown",
   "metadata": {},
   "source": [
    "**5.1-5.3 Hacks**\n",
    "\n",
    "**POPCORN HACKS: 0.2**\n",
    "\n",
    "**Create a simple To-Do List that utilizes the following (0.8):**\n",
    "\n",
    "1. Private and Public Declaration\n",
    "\n",
    "2. Constructor\n",
    "\n",
    "3. Mutable Array containing To-Do List Items\n",
    "\n",
    "Make sure to add descriptive comments that are describing your code!"
   ]
  }
 ],
 "metadata": {
  "language_info": {
   "name": "python"
  },
  "orig_nbformat": 4
 },
 "nbformat": 4,
 "nbformat_minor": 2
}
