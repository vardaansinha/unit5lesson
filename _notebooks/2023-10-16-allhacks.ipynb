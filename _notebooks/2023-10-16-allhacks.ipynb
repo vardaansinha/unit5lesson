{
 "cells": [
  {
   "attachments": {},
   "cell_type": "markdown",
   "metadata": {},
   "source": [
    "# Hacks"
   ]
  },
  {
   "attachments": {},
   "cell_type": "markdown",
   "metadata": {},
   "source": [
    "**5.1-5.3 Hacks**\n",
    "\n",
    "**POPCORN HACKS: 0.2**\n",
    "\n",
    "**Create a simple To-Do List that utilizes the following (0.8):**\n",
    "\n",
    "1. Private and Public Declaration\n",
    "\n",
    "2. Constructor\n",
    "\n",
    "3. Mutable Array containing To-Do List Items\n",
    "\n",
    "Make sure to add descriptive comments that are describing your code!"
   ]
  },
  {
   "cell_type": "markdown",
   "metadata": {},
   "source": [
    "**5.4-5.8 Hacks**\n",
    "\n",
    "**POPCORN HACKS: 0.2**\n",
    "\n",
    "**Make simple banking application. The application should be able to handle new customer bank account requests, processing deposits and withdrawals, and maintaining accurate records of transactions and balances. The application should also track the bank's total supply of money. Your code should utilize the following concepts(0.8):**\n",
    "\n",
    "1. Scope and Access: Private and public modifiers used in classes.\n",
    "\n",
    "2. Method Decomposition: Each class has its own responsibility; methods are tasked with single operations.\n",
    "\n",
    "3. Non-Void Methods: Methods like getBalance(), getAccountNumber(), and getTotalBankDeposits().\n",
    "\n",
    "4. Void Methods: Methods like deposit(), withdraw(), and processTransaction().\n",
    "\n",
    "5. Formal Parameters: Used in methods throughout the classes.\n",
    "\n",
    "6. Reference vs. Primitive Parameters: Primitive types for account numbers, balances, etc., and references for account objects."
   ]
  },
  {
   "attachments": {},
   "cell_type": "markdown",
   "metadata": {},
   "source": [
    "**5.9-5.10 Hacks**\n",
    "\n",
    "**POPCORN HACKS: 0.2**\n",
    "\n",
    "**Write a two sentence reflection on the social and ethical implications of programming. (0.8)**"
   ]
  }
 ],
 "metadata": {
  "language_info": {
   "name": "python"
  },
  "orig_nbformat": 4
 },
 "nbformat": 4,
 "nbformat_minor": 2
}
