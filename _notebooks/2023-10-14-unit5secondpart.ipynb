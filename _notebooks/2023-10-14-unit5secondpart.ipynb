{
 "cells": [
  {
   "cell_type": "markdown",
   "metadata": {},
   "source": [
    "# Topic 5.4: Accessor Methods\n",
    "\n",
    "In Java, classes serve as blueprints for creating objects. These classes can encapsulate attributes (fields) and behaviors (methods). One of the cornerstones of Object-Oriented Programming is **data encapsulation**. This principle restricts direct access to some of an object's components, ensuring data integrity and security. Accessor methods, colloquially known as \"getters\", offer a controlled means to access these attributes.\n",
    "\n",
    "## Accessor Methods\n",
    "\n",
    "An **Accessor Method** permits other objects to retrieve the value of instance or static variables. They are typically non-void methods without parameters that return a value.\n",
    "\n",
    "For instance, consider a class `Circle`:"
   ]
  },
  {
   "cell_type": "code",
   "execution_count": null,
   "metadata": {},
   "outputs": [],
   "source": [
    "public class Circle {\n",
    "    private double radius;\n",
    "\n",
    "    public Circle(double r) {\n",
    "        this.radius = r;\n",
    "    }\n",
    "\n",
    "    // Accessor method for radius\n",
    "    public double getRadius() {\n",
    "        return radius;\n",
    "    }\n",
    "}"
   ]
  },
  {
   "cell_type": "markdown",
   "metadata": {},
   "source": [
    "In the code above, the method `getRadius` is an accessor method. It allows external code to retrieve the value of the `radius` attribute without directly accessing the private field. This is a fundamental aspect of data encapsulation, ensuring that the internal state of an object is protected and can only be accessed or modified in controlled ways."
   ]
  },
  {
   "cell_type": "markdown",
   "metadata": {},
   "source": [
    "## Return by Value\n",
    "\n",
    "Java employs the \"return by value\" approach for its methods. This implies that when a method returns a value, it's essentially returning a copy of that value. This is especially true for primitive data types."
   ]
  },
  {
   "cell_type": "code",
   "execution_count": null,
   "metadata": {},
   "outputs": [],
   "source": [
    "public int getIntegerValue() {\n",
    "    int value = 5;\n",
    "    return value;\n",
    "}"
   ]
  },
  {
   "cell_type": "markdown",
   "metadata": {},
   "source": [
    "In the method above, the value `5` is returned, not the variable `value` itself."
   ]
  },
  {
   "cell_type": "markdown",
   "metadata": {},
   "source": [
    "## Reference Return\n",
    "\n",
    "For objects, when a method returns an object, it's essentially returning a reference to that object, not a fresh copy. This becomes pivotal when dealing with mutable objects."
   ]
  },
  {
   "cell_type": "code",
   "execution_count": null,
   "metadata": {},
   "outputs": [],
   "source": [
    "public class Box {\n",
    "    private ArrayList<String> items;\n",
    "\n",
    "    public Box() {\n",
    "        items = new ArrayList<>();\n",
    "    }\n",
    "\n",
    "    public ArrayList<String> getItems() {\n",
    "        return items;\n",
    "    }\n",
    "}"
   ]
  },
  {
   "cell_type": "markdown",
   "metadata": {},
   "source": [
    "If you append an item to the ArrayList returned by `getItems`, will it modify the original `items` in the `Box` object?\n",
    "\n",
    "Answer: "
   ]
  },
  {
   "cell_type": "markdown",
   "metadata": {},
   "source": [
    "## `toString` Method\n",
    "\n",
    "The `toString` method offers a string representation of an object. By default, it returns the class name followed by its memory address. However, it's a common practice to override this method to provide a more descriptive representation."
   ]
  },
  {
   "cell_type": "code",
   "execution_count": null,
   "metadata": {},
   "outputs": [],
   "source": [
    "@Override\n",
    "public String toString() {\n",
    "    return \"Circle with radius: \" + radius;\n",
    "}"
   ]
  },
  {
   "cell_type": "markdown",
   "metadata": {},
   "source": [
    "Without overriding, what would the default `toString` method return?\n",
    "\n",
    "Answer: "
   ]
  }
 ],
 "metadata": {
  "kernelspec": {
   "display_name": "Java",
   "language": "java",
   "name": "java"
  },
  "language_info": {
   "name": "java"
  }
 },
 "nbformat": 4,
 "nbformat_minor": 2
}
